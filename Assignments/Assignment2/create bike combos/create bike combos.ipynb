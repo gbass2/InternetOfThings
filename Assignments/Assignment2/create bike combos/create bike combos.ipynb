{
 "cells": [
  {
   "cell_type": "code",
   "execution_count": 2,
   "id": "7f00ccfb-0f84-4451-b309-94c9a8ceca59",
   "metadata": {},
   "outputs": [],
   "source": [
    "import itertools\n",
    "\n",
    "S=[['mountain_bike', 'race_bike', 'street_bike'],['4','5','6','7','8','9','10'],['36','42','48','54','60'],['1','2','3','4'],['steel','red','blue','black'],['carbon','steel', 'aluminium']] \n",
    "\n",
    "combinations = [\",\".join(x) for x in itertools.product(*S)] \n",
    "\n",
    "textfile = open(\"bike_combos.csv\", \"w\")\n",
    "\n",
    "for entry in combinations:\n",
    "    textfile.write(entry + \",\\n\")\n",
    "    \n",
    "textfile.close()\n",
    "    "
   ]
  },
  {
   "cell_type": "code",
   "execution_count": null,
   "id": "d9ed15f2-a2ba-4a80-a7a9-7a939e7b6be3",
   "metadata": {},
   "outputs": [],
   "source": []
  },
  {
   "cell_type": "code",
   "execution_count": null,
   "id": "b3010279-59f5-4125-ac9b-edffbb5732bb",
   "metadata": {},
   "outputs": [],
   "source": []
  }
 ],
 "metadata": {
  "kernelspec": {
   "display_name": "Python 3",
   "language": "python",
   "name": "python3"
  },
  "language_info": {
   "codemirror_mode": {
    "name": "ipython",
    "version": 3
   },
   "file_extension": ".py",
   "mimetype": "text/x-python",
   "name": "python",
   "nbconvert_exporter": "python",
   "pygments_lexer": "ipython3",
   "version": "3.8.8"
  }
 },
 "nbformat": 4,
 "nbformat_minor": 5
}
